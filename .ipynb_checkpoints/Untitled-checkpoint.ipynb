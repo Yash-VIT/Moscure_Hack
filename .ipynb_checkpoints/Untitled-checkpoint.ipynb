{
 "cells": [
  {
   "cell_type": "code",
   "execution_count": 31,
   "metadata": {},
   "outputs": [],
   "source": [
    "%matplotlib inline\n",
    "import pandas as pd\n",
    "import numpy as np\n",
    "from math import sqrt\n",
    "from pandas import DataFrame\n",
    "from pandas import concat\n",
    "from pandas import datetime\n",
    "from sklearn.metrics import mean_squared_error\n",
    "from keras.models import Sequential\n",
    "from keras.layers import Dense\n",
    "from keras.layers import LSTM\n",
    "import os.path\n",
    "from keras.models import load_model\n",
    "import numpy as np\n",
    "from matplotlib import pyplot\n"
   ]
  },
  {
   "cell_type": "code",
   "execution_count": 32,
   "metadata": {},
   "outputs": [],
   "source": [
    "df_features = pd.read_csv('dengue_features_train.csv',usecols=['precipitation_amt_mm','reanalysis_avg_temp_k','reanalysis_relative_humidity_percent'])\n",
    "df_labels   = pd.read_csv('dengue_labels_train.csv',usecols=['total_cases'])"
   ]
  },
  {
   "cell_type": "code",
   "execution_count": null,
   "metadata": {},
   "outputs": [],
   "source": []
  },
  {
   "cell_type": "code",
   "execution_count": 33,
   "metadata": {},
   "outputs": [],
   "source": [
    "df_features.head()\n",
    "df_features = df_features.dropna()"
   ]
  },
  {
   "cell_type": "code",
   "execution_count": 34,
   "metadata": {},
   "outputs": [],
   "source": [
    "from sklearn.preprocessing import MinMaxScaler\n",
    "scaler = MinMaxScaler()\n",
    "scaler.fit(df_features)\n",
    "df_features = scaler.transform(df_features)"
   ]
  },
  {
   "cell_type": "code",
   "execution_count": 16,
   "metadata": {},
   "outputs": [],
   "source": [
    "df_features.shape\n",
    "\n",
    "X = df_features[:,0:3]\n",
    "Y = df_features[:,3]\n",
    "\n"
   ]
  },
  {
   "cell_type": "code",
   "execution_count": 17,
   "metadata": {},
   "outputs": [
    {
     "data": {
      "text/plain": [
       "RandomForestRegressor(bootstrap=True, ccp_alpha=0.0, criterion='mse',\n",
       "                      max_depth=None, max_features='auto', max_leaf_nodes=None,\n",
       "                      max_samples=None, min_impurity_decrease=0.0,\n",
       "                      min_impurity_split=None, min_samples_leaf=1,\n",
       "                      min_samples_split=2, min_weight_fraction_leaf=0.0,\n",
       "                      n_estimators=100, n_jobs=None, oob_score=False,\n",
       "                      random_state=None, verbose=0, warm_start=False)"
      ]
     },
     "execution_count": 17,
     "metadata": {},
     "output_type": "execute_result"
    }
   ],
   "source": [
    "from sklearn.ensemble import RandomForestRegressor\n",
    "\n",
    "regr = RandomForestRegressor()\n",
    "regr.fit(X,Y)\n",
    "\n",
    "\n"
   ]
  },
  {
   "cell_type": "code",
   "execution_count": 18,
   "metadata": {},
   "outputs": [],
   "source": [
    "import pickle\n",
    "pickle.dump(regr,open('regressor.pickle','wb'))"
   ]
  },
  {
   "cell_type": "code",
   "execution_count": 35,
   "metadata": {},
   "outputs": [],
   "source": [
    "def series_to_supervised(data, n_in=1, n_out=1, dropnan=True):\n",
    "    n_vars = 1 if type(data) is list else data.shape[1]\n",
    "    df = DataFrame(data)\n",
    "    cols, names = list(), list()\n",
    "    # input sequence (t-n, ... t-1)\n",
    "    for i in range(n_in, 0, -1):\n",
    "        cols.append(df.shift(i))\n",
    "        names += [('var%d(t-%d)' % (j+1, i)) for j in range(n_vars)]\n",
    "    # forecast sequence (t, t+1, ... t+n)\n",
    "    for i in range(0, n_out):\n",
    "        cols.append(df.shift(-i))\n",
    "        names += [('var%d(t+%d)' % (j+1, i)) for j in range(n_vars)]\n",
    "    # put it all together\n",
    "    agg = concat(cols, axis=1)\n",
    "    agg.columns = names\n",
    "    # drop rows with NaN values\n",
    "    if dropnan:\n",
    "        agg.dropna(inplace=True)\n",
    "    return agg\n",
    "    \n",
    "    "
   ]
  },
  {
   "cell_type": "code",
   "execution_count": 36,
   "metadata": {},
   "outputs": [],
   "source": [
    "#df_features = df_features.drop(['total_cases'],axis=1)\n",
    "reframed = series_to_supervised(df_features,5,5)"
   ]
  },
  {
   "cell_type": "code",
   "execution_count": 37,
   "metadata": {},
   "outputs": [
    {
     "data": {
      "text/html": [
       "<div>\n",
       "<style scoped>\n",
       "    .dataframe tbody tr th:only-of-type {\n",
       "        vertical-align: middle;\n",
       "    }\n",
       "\n",
       "    .dataframe tbody tr th {\n",
       "        vertical-align: top;\n",
       "    }\n",
       "\n",
       "    .dataframe thead th {\n",
       "        text-align: right;\n",
       "    }\n",
       "</style>\n",
       "<table border=\"1\" class=\"dataframe\">\n",
       "  <thead>\n",
       "    <tr style=\"text-align: right;\">\n",
       "      <th></th>\n",
       "      <th>var1(t-5)</th>\n",
       "      <th>var2(t-5)</th>\n",
       "      <th>var3(t-5)</th>\n",
       "      <th>var1(t-4)</th>\n",
       "      <th>var2(t-4)</th>\n",
       "      <th>var3(t-4)</th>\n",
       "      <th>var1(t-3)</th>\n",
       "      <th>var2(t-3)</th>\n",
       "      <th>var3(t-3)</th>\n",
       "      <th>var1(t-2)</th>\n",
       "      <th>...</th>\n",
       "      <th>var3(t+1)</th>\n",
       "      <th>var1(t+2)</th>\n",
       "      <th>var2(t+2)</th>\n",
       "      <th>var3(t+2)</th>\n",
       "      <th>var1(t+3)</th>\n",
       "      <th>var2(t+3)</th>\n",
       "      <th>var3(t+3)</th>\n",
       "      <th>var1(t+4)</th>\n",
       "      <th>var2(t+4)</th>\n",
       "      <th>var3(t+4)</th>\n",
       "    </tr>\n",
       "  </thead>\n",
       "  <tbody>\n",
       "    <tr>\n",
       "      <th>5</th>\n",
       "      <td>0.031797</td>\n",
       "      <td>0.354667</td>\n",
       "      <td>0.381614</td>\n",
       "      <td>0.058423</td>\n",
       "      <td>0.441778</td>\n",
       "      <td>0.479668</td>\n",
       "      <td>0.088428</td>\n",
       "      <td>0.496000</td>\n",
       "      <td>0.594415</td>\n",
       "      <td>0.039324</td>\n",
       "      <td>...</td>\n",
       "      <td>0.593120</td>\n",
       "      <td>0.386892</td>\n",
       "      <td>0.576889</td>\n",
       "      <td>0.626820</td>\n",
       "      <td>0.049462</td>\n",
       "      <td>0.580444</td>\n",
       "      <td>0.611947</td>\n",
       "      <td>0.036892</td>\n",
       "      <td>0.670222</td>\n",
       "      <td>0.575518</td>\n",
       "    </tr>\n",
       "    <tr>\n",
       "      <th>6</th>\n",
       "      <td>0.058423</td>\n",
       "      <td>0.441778</td>\n",
       "      <td>0.479668</td>\n",
       "      <td>0.088428</td>\n",
       "      <td>0.496000</td>\n",
       "      <td>0.594415</td>\n",
       "      <td>0.039324</td>\n",
       "      <td>0.539556</td>\n",
       "      <td>0.552387</td>\n",
       "      <td>0.019252</td>\n",
       "      <td>...</td>\n",
       "      <td>0.626820</td>\n",
       "      <td>0.049462</td>\n",
       "      <td>0.580444</td>\n",
       "      <td>0.611947</td>\n",
       "      <td>0.036892</td>\n",
       "      <td>0.670222</td>\n",
       "      <td>0.575518</td>\n",
       "      <td>0.057015</td>\n",
       "      <td>0.584889</td>\n",
       "      <td>0.580067</td>\n",
       "    </tr>\n",
       "    <tr>\n",
       "      <th>7</th>\n",
       "      <td>0.088428</td>\n",
       "      <td>0.496000</td>\n",
       "      <td>0.594415</td>\n",
       "      <td>0.039324</td>\n",
       "      <td>0.539556</td>\n",
       "      <td>0.552387</td>\n",
       "      <td>0.019252</td>\n",
       "      <td>0.593778</td>\n",
       "      <td>0.555396</td>\n",
       "      <td>0.024526</td>\n",
       "      <td>...</td>\n",
       "      <td>0.611947</td>\n",
       "      <td>0.036892</td>\n",
       "      <td>0.670222</td>\n",
       "      <td>0.575518</td>\n",
       "      <td>0.057015</td>\n",
       "      <td>0.584889</td>\n",
       "      <td>0.580067</td>\n",
       "      <td>0.151485</td>\n",
       "      <td>0.604444</td>\n",
       "      <td>0.596655</td>\n",
       "    </tr>\n",
       "    <tr>\n",
       "      <th>8</th>\n",
       "      <td>0.039324</td>\n",
       "      <td>0.539556</td>\n",
       "      <td>0.552387</td>\n",
       "      <td>0.019252</td>\n",
       "      <td>0.593778</td>\n",
       "      <td>0.555396</td>\n",
       "      <td>0.024526</td>\n",
       "      <td>0.606222</td>\n",
       "      <td>0.541468</td>\n",
       "      <td>0.008909</td>\n",
       "      <td>...</td>\n",
       "      <td>0.575518</td>\n",
       "      <td>0.057015</td>\n",
       "      <td>0.584889</td>\n",
       "      <td>0.580067</td>\n",
       "      <td>0.151485</td>\n",
       "      <td>0.604444</td>\n",
       "      <td>0.596655</td>\n",
       "      <td>0.042192</td>\n",
       "      <td>0.590222</td>\n",
       "      <td>0.562325</td>\n",
       "    </tr>\n",
       "    <tr>\n",
       "      <th>9</th>\n",
       "      <td>0.019252</td>\n",
       "      <td>0.593778</td>\n",
       "      <td>0.555396</td>\n",
       "      <td>0.024526</td>\n",
       "      <td>0.606222</td>\n",
       "      <td>0.541468</td>\n",
       "      <td>0.008909</td>\n",
       "      <td>0.538667</td>\n",
       "      <td>0.593120</td>\n",
       "      <td>0.386892</td>\n",
       "      <td>...</td>\n",
       "      <td>0.580067</td>\n",
       "      <td>0.151485</td>\n",
       "      <td>0.604444</td>\n",
       "      <td>0.596655</td>\n",
       "      <td>0.042192</td>\n",
       "      <td>0.590222</td>\n",
       "      <td>0.562325</td>\n",
       "      <td>0.083615</td>\n",
       "      <td>0.629333</td>\n",
       "      <td>0.558441</td>\n",
       "    </tr>\n",
       "  </tbody>\n",
       "</table>\n",
       "<p>5 rows × 30 columns</p>\n",
       "</div>"
      ],
      "text/plain": [
       "   var1(t-5)  var2(t-5)  var3(t-5)  var1(t-4)  var2(t-4)  var3(t-4)  \\\n",
       "5   0.031797   0.354667   0.381614   0.058423   0.441778   0.479668   \n",
       "6   0.058423   0.441778   0.479668   0.088428   0.496000   0.594415   \n",
       "7   0.088428   0.496000   0.594415   0.039324   0.539556   0.552387   \n",
       "8   0.039324   0.539556   0.552387   0.019252   0.593778   0.555396   \n",
       "9   0.019252   0.593778   0.555396   0.024526   0.606222   0.541468   \n",
       "\n",
       "   var1(t-3)  var2(t-3)  var3(t-3)  var1(t-2)  ...  var3(t+1)  var1(t+2)  \\\n",
       "5   0.088428   0.496000   0.594415   0.039324  ...   0.593120   0.386892   \n",
       "6   0.039324   0.539556   0.552387   0.019252  ...   0.626820   0.049462   \n",
       "7   0.019252   0.593778   0.555396   0.024526  ...   0.611947   0.036892   \n",
       "8   0.024526   0.606222   0.541468   0.008909  ...   0.575518   0.057015   \n",
       "9   0.008909   0.538667   0.593120   0.386892  ...   0.580067   0.151485   \n",
       "\n",
       "   var2(t+2)  var3(t+2)  var1(t+3)  var2(t+3)  var3(t+3)  var1(t+4)  \\\n",
       "5   0.576889   0.626820   0.049462   0.580444   0.611947   0.036892   \n",
       "6   0.580444   0.611947   0.036892   0.670222   0.575518   0.057015   \n",
       "7   0.670222   0.575518   0.057015   0.584889   0.580067   0.151485   \n",
       "8   0.584889   0.580067   0.151485   0.604444   0.596655   0.042192   \n",
       "9   0.604444   0.596655   0.042192   0.590222   0.562325   0.083615   \n",
       "\n",
       "   var2(t+4)  var3(t+4)  \n",
       "5   0.670222   0.575518  \n",
       "6   0.584889   0.580067  \n",
       "7   0.604444   0.596655  \n",
       "8   0.590222   0.562325  \n",
       "9   0.629333   0.558441  \n",
       "\n",
       "[5 rows x 30 columns]"
      ]
     },
     "execution_count": 37,
     "metadata": {},
     "output_type": "execute_result"
    }
   ],
   "source": [
    "reframed.head()"
   ]
  },
  {
   "cell_type": "code",
   "execution_count": 49,
   "metadata": {},
   "outputs": [],
   "source": [
    "\"\"\" LSTM to predict the future environment variables\"\"\"\n",
    "def fit_lstm(train, n_lag,num_features,n_ahead, n_batch, nb_epoch, n_neurons):\n",
    "    # reshape training into [samples, timesteps, features]\n",
    "    X, y = train[:, :-n_ahead*num_features], train[:, -n_ahead*num_features:]\n",
    "    print(X.shape,y.shape)\n",
    "    X = X.reshape(X.shape[0], n_lag, int(X.shape[1]/n_lag))\n",
    "\n",
    "    #design network\n",
    "    model = Sequential()\n",
    "    model.add(LSTM(n_neurons, batch_input_shape=(n_batch, X.shape[1], X.shape[2]), stateful=True))\n",
    "    model.add(Dense(n_ahead*num_features))\n",
    "    model.compile(loss='mean_squared_error', optimizer='adam')\n",
    "    # fit network\n",
    "    for i in range(nb_epoch):\n",
    "        model.fit(X, y, epochs=1, batch_size=n_batch, verbose=2, shuffle=False)\n",
    "        model.reset_states()\n",
    "    return model"
   ]
  },
  {
   "cell_type": "code",
   "execution_count": 50,
   "metadata": {},
   "outputs": [],
   "source": [
    "\"\"\" forecast with the lstm \"\"\"\n",
    "def forecast_lstm(model, X, n_batch, n_lag,num_features):\n",
    "    # reshape input pattern to [samples, timesteps, features]\n",
    "    X = X.reshape(1,n_lag,num_features)\n",
    "    \n",
    "    # make forecast\n",
    "    forecast = model.predict(X, batch_size=n_batch)\n",
    "    \n",
    "    # convert to array\n",
    "    ret = [x for x in forecast[0, :]]\n",
    "    return ret\n",
    "\n",
    "def make_forecasts(model, n_batch, train, test, n_lag, n_ahead,num_features):\n",
    "    forecasts = list()\n",
    "    for i in range(len(test)):\n",
    "        X = test[i, :-n_ahead*num_features]\n",
    "        \n",
    "        # make forecast\n",
    "        forecast = forecast_lstm(model, X, n_batch, n_lag,num_features)\n",
    "        # store the forecast\n",
    "        forecasts.append(forecast)\n",
    "    return forecasts"
   ]
  },
  {
   "cell_type": "code",
   "execution_count": 59,
   "metadata": {},
   "outputs": [],
   "source": [
    "def evaluate_forecasts(y, forecasts,num_features,n_lag, n_seq):\n",
    "    \n",
    "    array_idx_start = 0\n",
    "    array_idx_end   = 3\n",
    "    for i in range(n_seq-4):\n",
    "        \n",
    "        actual = np.array([row[array_idx_start:array_idx_end] for row in y])\n",
    "        \n",
    "               \n",
    "        predicted = np.array([forecast[array_idx_start:array_idx_end] for forecast in forecasts])\n",
    "    \n",
    "        \n",
    "        \n",
    "        rmse = sqrt(mean_squared_error(actual, predicted))\n",
    "        print('t+%d RMSE: %f' % ((i+1), rmse))"
   ]
  },
  {
   "cell_type": "code",
   "execution_count": null,
   "metadata": {},
   "outputs": [],
   "source": []
  },
  {
   "cell_type": "code",
   "execution_count": 57,
   "metadata": {},
   "outputs": [
    {
     "name": "stdout",
     "output_type": "stream",
     "text": [
      "(1147, 15) (1147, 15)\n",
      "Epoch 1/1\n",
      " - 4s - loss: 0.0218\n",
      "Epoch 1/1\n",
      " - 3s - loss: 0.0163\n",
      "Epoch 1/1\n",
      " - 3s - loss: 0.0149\n",
      "Epoch 1/1\n",
      " - 3s - loss: 0.0139\n",
      "Epoch 1/1\n",
      " - 3s - loss: 0.0133\n",
      "Epoch 1/1\n",
      " - 3s - loss: 0.0128\n",
      "Epoch 1/1\n",
      " - 3s - loss: 0.0124\n",
      "Epoch 1/1\n",
      " - 3s - loss: 0.0122\n",
      "Epoch 1/1\n",
      " - 3s - loss: 0.0120\n",
      "Epoch 1/1\n",
      " - 3s - loss: 0.0119\n",
      "Epoch 1/1\n",
      " - 3s - loss: 0.0118\n",
      "Epoch 1/1\n",
      " - 3s - loss: 0.0118\n",
      "Epoch 1/1\n",
      " - 3s - loss: 0.0117\n",
      "Epoch 1/1\n",
      " - 3s - loss: 0.0115\n",
      "Epoch 1/1\n",
      " - 3s - loss: 0.0114\n",
      "Epoch 1/1\n",
      " - 3s - loss: 0.0113\n",
      "Epoch 1/1\n",
      " - 3s - loss: 0.0113\n",
      "Epoch 1/1\n",
      " - 4s - loss: 0.0113\n",
      "Epoch 1/1\n",
      " - 3s - loss: 0.0112\n",
      "Epoch 1/1\n",
      " - 3s - loss: 0.0111\n",
      "Epoch 1/1\n",
      " - 3s - loss: 0.0109\n",
      "Epoch 1/1\n",
      " - 3s - loss: 0.0111\n",
      "Epoch 1/1\n",
      " - 3s - loss: 0.0109\n",
      "Epoch 1/1\n",
      " - 3s - loss: 0.0107\n",
      "Epoch 1/1\n",
      " - 3s - loss: 0.0110\n",
      "Epoch 1/1\n",
      " - 3s - loss: 0.0107\n",
      "Epoch 1/1\n",
      " - 3s - loss: 0.0108\n",
      "Epoch 1/1\n",
      " - 4s - loss: 0.0107\n",
      "Epoch 1/1\n",
      " - 3s - loss: 0.0109\n",
      "Epoch 1/1\n",
      " - 3s - loss: 0.0105\n",
      "Model: \"sequential_2\"\n",
      "_________________________________________________________________\n",
      "Layer (type)                 Output Shape              Param #   \n",
      "=================================================================\n",
      "lstm_2 (LSTM)                (1, 50)                   10800     \n",
      "_________________________________________________________________\n",
      "dense_2 (Dense)              (1, 15)                   765       \n",
      "=================================================================\n",
      "Total params: 11,565\n",
      "Trainable params: 11,565\n",
      "Non-trainable params: 0\n",
      "_________________________________________________________________\n"
     ]
    }
   ],
   "source": [
    "\n",
    "values = reframed.values\n",
    "n_train = int(len(values) * 0.8)\n",
    "train = values[:n_train, :]\n",
    "test = values[n_train:, :]\n",
    "\n",
    "# fit model\n",
    "file_path = 'my_model_updated2.h5'\n",
    "if not os.path.exists(file_path):\n",
    "    model = fit_lstm(train, 5, 3,5, 1, 30, 50)\n",
    "    model.save(file_path)\n",
    "else:\n",
    "    model = load_model(file_path)\n",
    "model.summary()    "
   ]
  },
  {
   "cell_type": "code",
   "execution_count": 60,
   "metadata": {},
   "outputs": [
    {
     "name": "stdout",
     "output_type": "stream",
     "text": [
      "(287, 3)\n",
      "(287, 3)\n",
      "t+1 RMSE: 0.287899\n"
     ]
    }
   ],
   "source": [
    "forecasts = make_forecasts(model, 1, train, test,5,5,3)\n",
    "\n",
    "# evaluate forecasts\n",
    "\n",
    "actual = [row[-15:] for row in test]\n",
    "evaluate_forecasts(actual, forecasts,3,5, 5)"
   ]
  },
  {
   "cell_type": "code",
   "execution_count": 7,
   "metadata": {},
   "outputs": [
    {
     "name": "stdout",
     "output_type": "stream",
     "text": [
      "(1, 5, 3)\n"
     ]
    }
   ],
   "source": [
    "past_x = np.random.rand(3)\n",
    "past_x = past_x.reshape(1,1,3)\n",
    "\n",
    "past_x = np.concatenate([past_x,past_x,past_x,past_x,past_x],axis=1)\n",
    "print(past_x.shape)"
   ]
  },
  {
   "cell_type": "code",
   "execution_count": 24,
   "metadata": {},
   "outputs": [],
   "source": [
    "forecasts = model.predict(past_x)"
   ]
  },
  {
   "cell_type": "code",
   "execution_count": 25,
   "metadata": {},
   "outputs": [
    {
     "name": "stdout",
     "output_type": "stream",
     "text": [
      "[[0.4283824  0.51728755 1.3450907  0.3030666  0.28098294 1.2897422\n",
      "  0.47196692 0.4311963  1.393919   0.39235145 0.37325662 1.3521591\n",
      "  0.41576546 0.26842758 1.5506761 ]]\n"
     ]
    }
   ],
   "source": [
    "print(forecasts)"
   ]
  },
  {
   "cell_type": "code",
   "execution_count": 26,
   "metadata": {},
   "outputs": [],
   "source": [
    "forecasts = forecasts.reshape(1,5,3)\n"
   ]
  },
  {
   "cell_type": "code",
   "execution_count": 27,
   "metadata": {},
   "outputs": [
    {
     "name": "stdout",
     "output_type": "stream",
     "text": [
      "[0.39235145 0.37325662 1.3521591 ]\n"
     ]
    }
   ],
   "source": [
    "print(forecasts[0,3])"
   ]
  },
  {
   "cell_type": "code",
   "execution_count": null,
   "metadata": {},
   "outputs": [],
   "source": []
  },
  {
   "cell_type": "code",
   "execution_count": 28,
   "metadata": {},
   "outputs": [
    {
     "name": "stdout",
     "output_type": "stream",
     "text": [
      "[[[0.4283824  0.51728755 1.3450907 ]\n",
      "  [0.3030666  0.28098294 1.2897422 ]\n",
      "  [0.47196692 0.4311963  1.393919  ]\n",
      "  [0.39235145 0.37325662 1.3521591 ]\n",
      "  [0.41576546 0.26842758 1.5506761 ]]]\n"
     ]
    }
   ],
   "source": [
    "print(forecasts)"
   ]
  },
  {
   "cell_type": "code",
   "execution_count": 29,
   "metadata": {},
   "outputs": [
    {
     "name": "stdout",
     "output_type": "stream",
     "text": [
      "(1, 5, 3)\n"
     ]
    }
   ],
   "source": [
    "\n",
    "print(forecasts.shape)\n",
    "\n",
    "new_forecast = model.predict(forecasts)"
   ]
  },
  {
   "cell_type": "code",
   "execution_count": 30,
   "metadata": {},
   "outputs": [
    {
     "name": "stdout",
     "output_type": "stream",
     "text": [
      "[[0.5556927  0.3811651  1.5019491  0.2729823  0.3238494  1.3991315\n",
      "  0.39621988 0.40905458 1.5412896  0.42352745 0.23117374 1.5214334\n",
      "  0.41895926 0.16550383 1.5436932 ]]\n"
     ]
    }
   ],
   "source": [
    "print(new_forecast)"
   ]
  },
  {
   "cell_type": "code",
   "execution_count": 139,
   "metadata": {},
   "outputs": [],
   "source": [
    "new_forecast = new_forecast.reshape(1,5,3)"
   ]
  },
  {
   "cell_type": "code",
   "execution_count": 141,
   "metadata": {},
   "outputs": [
    {
     "name": "stdout",
     "output_type": "stream",
     "text": [
      "[0.18766356 0.39043644 0.816649  ]\n"
     ]
    }
   ],
   "source": [
    "print(new_forecast[0,3])"
   ]
  },
  {
   "cell_type": "code",
   "execution_count": null,
   "metadata": {},
   "outputs": [],
   "source": []
  }
 ],
 "metadata": {
  "kernelspec": {
   "display_name": "Python 3",
   "language": "python",
   "name": "python3"
  },
  "language_info": {
   "codemirror_mode": {
    "name": "ipython",
    "version": 3
   },
   "file_extension": ".py",
   "mimetype": "text/x-python",
   "name": "python",
   "nbconvert_exporter": "python",
   "pygments_lexer": "ipython3",
   "version": "3.6.9"
  }
 },
 "nbformat": 4,
 "nbformat_minor": 2
}
